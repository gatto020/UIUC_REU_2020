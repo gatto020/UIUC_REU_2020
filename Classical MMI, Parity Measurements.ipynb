{
 "cells": [
  {
   "cell_type": "code",
   "execution_count": 1,
   "metadata": {},
   "outputs": [],
   "source": [
    "#Triangle bilocal network. Alice, Bob and Charlie share Bell states\n",
    "#Each one of them makes parity measurements.\n",
    "#Let's just try to test if the entropies were right first.\n",
    "using QBase"
   ]
  },
  {
   "cell_type": "code",
   "execution_count": 2,
   "metadata": {
    "scrolled": true
   },
   "outputs": [],
   "source": [
    "#|0>\n",
    "k0 = [1,0]\n",
    "#k1\n",
    "k1 = [0,1]\n",
    "#|000>\n",
    "k000 = [1,0,0,0,0,0,0,0]\n",
    "#|011>\n",
    "k011 = [0,0,0,1,0,0,0,0]\n",
    "#|101>\n",
    "k101 = [0,0,0,0,0,1,0,0]\n",
    "#|k110>\n",
    "k110 = [0,0,0,0,0,0,1,0];\n",
    "#|010>\n",
    "k010 = [0,0,1,0,0,0,0,0]\n",
    "#|111>\n",
    "k111 = [0,0,0,0,0,0,0,1];"
   ]
  },
  {
   "cell_type": "code",
   "execution_count": 3,
   "metadata": {},
   "outputs": [],
   "source": [
    "rho_clas_ABC = (1/4)*(k000*k000' + k011*k011' + k101*k101' + k110*k110');"
   ]
  },
  {
   "cell_type": "code",
   "execution_count": 4,
   "metadata": {
    "scrolled": true
   },
   "outputs": [
    {
     "data": {
      "text/plain": [
       "8×8 QBase.States.DensityMatrix:\n",
       " 0.25+0.0im  0.0+0.0im  0.0+0.0im  …   0.0+0.0im   0.0+0.0im  0.0+0.0im\n",
       "  0.0+0.0im  0.0+0.0im  0.0+0.0im      0.0+0.0im   0.0+0.0im  0.0+0.0im\n",
       "  0.0+0.0im  0.0+0.0im  0.0+0.0im      0.0+0.0im   0.0+0.0im  0.0+0.0im\n",
       "  0.0+0.0im  0.0+0.0im  0.0+0.0im      0.0+0.0im   0.0+0.0im  0.0+0.0im\n",
       "  0.0+0.0im  0.0+0.0im  0.0+0.0im      0.0+0.0im   0.0+0.0im  0.0+0.0im\n",
       "  0.0+0.0im  0.0+0.0im  0.0+0.0im  …  0.25+0.0im   0.0+0.0im  0.0+0.0im\n",
       "  0.0+0.0im  0.0+0.0im  0.0+0.0im      0.0+0.0im  0.25+0.0im  0.0+0.0im\n",
       "  0.0+0.0im  0.0+0.0im  0.0+0.0im      0.0+0.0im   0.0+0.0im  0.0+0.0im"
      ]
     },
     "execution_count": 4,
     "metadata": {},
     "output_type": "execute_result"
    }
   ],
   "source": [
    "rho_ABC = QBase.States.DensityMatrix(rho_clas_ABC)"
   ]
  },
  {
   "cell_type": "code",
   "execution_count": 5,
   "metadata": {
    "scrolled": true
   },
   "outputs": [
    {
     "data": {
      "text/plain": [
       "2.0"
      ]
     },
     "execution_count": 5,
     "metadata": {},
     "output_type": "execute_result"
    }
   ],
   "source": [
    "S_ABC = QBase.Information.von_neumann_entropy(rho_ABC)"
   ]
  },
  {
   "cell_type": "code",
   "execution_count": 6,
   "metadata": {},
   "outputs": [
    {
     "data": {
      "text/plain": [
       "true"
      ]
     },
     "execution_count": 6,
     "metadata": {},
     "output_type": "execute_result"
    }
   ],
   "source": [
    "QBase.States.is_density_matrix(rho_clas_ABC)"
   ]
  },
  {
   "cell_type": "code",
   "execution_count": 7,
   "metadata": {},
   "outputs": [
    {
     "data": {
      "text/plain": [
       "4×4 Array{Float64,2}:\n",
       " 0.25  0.0   0.0   0.0\n",
       " 0.0   0.25  0.0   0.0\n",
       " 0.0   0.0   0.25  0.0\n",
       " 0.0   0.0   0.0   0.25"
      ]
     },
     "execution_count": 7,
     "metadata": {},
     "output_type": "execute_result"
    }
   ],
   "source": [
    "using QBase: QMath\n",
    "rho_BC = QMath.partial_trace(rho_clas_ABC,[2,2,2],1)#tracing out A"
   ]
  },
  {
   "cell_type": "code",
   "execution_count": 8,
   "metadata": {},
   "outputs": [
    {
     "data": {
      "text/plain": [
       "2×2 QBase.States.DensityMatrix:\n",
       " 0.5+0.0im  0.0+0.0im\n",
       " 0.0+0.0im  0.5+0.0im"
      ]
     },
     "execution_count": 8,
     "metadata": {},
     "output_type": "execute_result"
    }
   ],
   "source": [
    "rho_C0 = QMath.partial_trace(rho_BC,[2,2],1)#tracing out B\n",
    "rho_C = QBase.States.DensityMatrix(rho_C0)"
   ]
  },
  {
   "cell_type": "code",
   "execution_count": 9,
   "metadata": {},
   "outputs": [
    {
     "data": {
      "text/plain": [
       "1.0"
      ]
     },
     "execution_count": 9,
     "metadata": {},
     "output_type": "execute_result"
    }
   ],
   "source": [
    "S_C = QBase.Information.von_neumann_entropy(rho_C)"
   ]
  },
  {
   "cell_type": "code",
   "execution_count": 10,
   "metadata": {},
   "outputs": [
    {
     "data": {
      "text/plain": [
       "8-element Array{Int64,1}:\n",
       " 0\n",
       " 1\n",
       " 0\n",
       " 0\n",
       " 0\n",
       " 0\n",
       " 0\n",
       " 0"
      ]
     },
     "execution_count": 10,
     "metadata": {},
     "output_type": "execute_result"
    }
   ],
   "source": [
    "#Parity measurements\n",
    "#|00>\n",
    "k00 = [1,0,0,0]\n",
    "#|11>\n",
    "k11 = [0,0,0,1]\n",
    "#|01>\n",
    "k01 = [0,1,0,0]\n",
    "#|10>\n",
    "k10 = [0,0,1,0]\n",
    "#|001>\n",
    "k001 = kron(k00,k1)"
   ]
  },
  {
   "cell_type": "code",
   "execution_count": 11,
   "metadata": {},
   "outputs": [
    {
     "data": {
      "text/plain": [
       "4×4 Array{Int64,2}:\n",
       " 0  0  0  0\n",
       " 0  1  0  0\n",
       " 0  0  1  0\n",
       " 0  0  0  0"
      ]
     },
     "execution_count": 11,
     "metadata": {},
     "output_type": "execute_result"
    }
   ],
   "source": [
    "#Even Parity:\n",
    "P0 = k00*k00' + k11*k11'\n",
    "#Odd Parity\n",
    "P1 = k10*k10' + k01*k01'"
   ]
  },
  {
   "cell_type": "code",
   "execution_count": 12,
   "metadata": {},
   "outputs": [
    {
     "data": {
      "text/plain": [
       "64-element Array{Int64,1}:\n",
       " 0\n",
       " 0\n",
       " 0\n",
       " 0\n",
       " 0\n",
       " 0\n",
       " 0\n",
       " 0\n",
       " 0\n",
       " 0\n",
       " 0\n",
       " 0\n",
       " 0\n",
       " ⋮\n",
       " 0\n",
       " 0\n",
       " 0\n",
       " 0\n",
       " 0\n",
       " 0\n",
       " 0\n",
       " 0\n",
       " 0\n",
       " 0\n",
       " 0\n",
       " 1"
      ]
     },
     "execution_count": 12,
     "metadata": {},
     "output_type": "execute_result"
    }
   ],
   "source": [
    "#Density matrix\n",
    "k000000 = kron(k000,k000)\n",
    "k000101 = kron(k000,k101)\n",
    "k010010 = kron(k010,k010)\n",
    "k010111 = kron(k010,k111)\n",
    "k101000 = kron(k101,k000)\n",
    "k101101 = kron(k101,k101)\n",
    "k111010 = kron(k111,k010)\n",
    "k111111 = kron(k111,k111)"
   ]
  },
  {
   "cell_type": "code",
   "execution_count": 13,
   "metadata": {},
   "outputs": [
    {
     "data": {
      "text/plain": [
       "64-element Array{Int64,1}:\n",
       " 1\n",
       " 0\n",
       " 0\n",
       " 0\n",
       " 0\n",
       " 1\n",
       " 0\n",
       " 0\n",
       " 0\n",
       " 0\n",
       " 0\n",
       " 0\n",
       " 0\n",
       " ⋮\n",
       " 0\n",
       " 0\n",
       " 0\n",
       " 0\n",
       " 0\n",
       " 0\n",
       " 1\n",
       " 0\n",
       " 0\n",
       " 0\n",
       " 0\n",
       " 1"
      ]
     },
     "execution_count": 13,
     "metadata": {},
     "output_type": "execute_result"
    }
   ],
   "source": [
    "g_state = (k000000 + k000101 + k010010 + k010111 + k101000 + k101101 + k111010 + k111111)"
   ]
  },
  {
   "cell_type": "code",
   "execution_count": 14,
   "metadata": {},
   "outputs": [
    {
     "data": {
      "text/plain": [
       "64×64 Array{Float64,2}:\n",
       " 0.125  0.0  0.0  0.0  0.0  0.125  0.0  …  0.125  0.0  0.0  0.0  0.0  0.125\n",
       " 0.0    0.0  0.0  0.0  0.0  0.0    0.0     0.0    0.0  0.0  0.0  0.0  0.0\n",
       " 0.0    0.0  0.0  0.0  0.0  0.0    0.0     0.0    0.0  0.0  0.0  0.0  0.0\n",
       " 0.0    0.0  0.0  0.0  0.0  0.0    0.0     0.0    0.0  0.0  0.0  0.0  0.0\n",
       " 0.0    0.0  0.0  0.0  0.0  0.0    0.0     0.0    0.0  0.0  0.0  0.0  0.0\n",
       " 0.125  0.0  0.0  0.0  0.0  0.125  0.0  …  0.125  0.0  0.0  0.0  0.0  0.125\n",
       " 0.0    0.0  0.0  0.0  0.0  0.0    0.0     0.0    0.0  0.0  0.0  0.0  0.0\n",
       " 0.0    0.0  0.0  0.0  0.0  0.0    0.0     0.0    0.0  0.0  0.0  0.0  0.0\n",
       " 0.0    0.0  0.0  0.0  0.0  0.0    0.0     0.0    0.0  0.0  0.0  0.0  0.0\n",
       " 0.0    0.0  0.0  0.0  0.0  0.0    0.0     0.0    0.0  0.0  0.0  0.0  0.0\n",
       " 0.0    0.0  0.0  0.0  0.0  0.0    0.0  …  0.0    0.0  0.0  0.0  0.0  0.0\n",
       " 0.0    0.0  0.0  0.0  0.0  0.0    0.0     0.0    0.0  0.0  0.0  0.0  0.0\n",
       " 0.0    0.0  0.0  0.0  0.0  0.0    0.0     0.0    0.0  0.0  0.0  0.0  0.0\n",
       " ⋮                          ⋮           ⋱              ⋮              \n",
       " 0.0    0.0  0.0  0.0  0.0  0.0    0.0     0.0    0.0  0.0  0.0  0.0  0.0\n",
       " 0.0    0.0  0.0  0.0  0.0  0.0    0.0     0.0    0.0  0.0  0.0  0.0  0.0\n",
       " 0.0    0.0  0.0  0.0  0.0  0.0    0.0     0.0    0.0  0.0  0.0  0.0  0.0\n",
       " 0.0    0.0  0.0  0.0  0.0  0.0    0.0  …  0.0    0.0  0.0  0.0  0.0  0.0\n",
       " 0.0    0.0  0.0  0.0  0.0  0.0    0.0     0.0    0.0  0.0  0.0  0.0  0.0\n",
       " 0.0    0.0  0.0  0.0  0.0  0.0    0.0     0.0    0.0  0.0  0.0  0.0  0.0\n",
       " 0.125  0.0  0.0  0.0  0.0  0.125  0.0     0.125  0.0  0.0  0.0  0.0  0.125\n",
       " 0.0    0.0  0.0  0.0  0.0  0.0    0.0     0.0    0.0  0.0  0.0  0.0  0.0\n",
       " 0.0    0.0  0.0  0.0  0.0  0.0    0.0  …  0.0    0.0  0.0  0.0  0.0  0.0\n",
       " 0.0    0.0  0.0  0.0  0.0  0.0    0.0     0.0    0.0  0.0  0.0  0.0  0.0\n",
       " 0.0    0.0  0.0  0.0  0.0  0.0    0.0     0.0    0.0  0.0  0.0  0.0  0.0\n",
       " 0.125  0.0  0.0  0.0  0.0  0.125  0.0     0.125  0.0  0.0  0.0  0.0  0.125"
      ]
     },
     "execution_count": 14,
     "metadata": {},
     "output_type": "execute_result"
    }
   ],
   "source": [
    "g_den_matrix0 = (1/8)*g_state*g_state'"
   ]
  },
  {
   "cell_type": "code",
   "execution_count": 15,
   "metadata": {},
   "outputs": [
    {
     "ename": "UndefVarError",
     "evalue": "UndefVarError: eigvals not defined",
     "output_type": "error",
     "traceback": [
      "UndefVarError: eigvals not defined",
      "",
      "Stacktrace:",
      " [1] top-level scope at In[15]:1"
     ]
    }
   ],
   "source": [
    "#eigvals(g_den_matrix0) #if this is a pure state, should have given only 1 and 0 for eigvals"
   ]
  },
  {
   "cell_type": "code",
   "execution_count": 16,
   "metadata": {},
   "outputs": [
    {
     "data": {
      "text/plain": [
       "true"
      ]
     },
     "execution_count": 16,
     "metadata": {},
     "output_type": "execute_result"
    }
   ],
   "source": [
    "QBase.States.is_density_matrix(g_den_matrix0)"
   ]
  },
  {
   "cell_type": "code",
   "execution_count": 17,
   "metadata": {},
   "outputs": [
    {
     "data": {
      "text/plain": [
       "64×64 QBase.States.DensityMatrix:\n",
       " 0.125+0.0im  0.0+0.0im  0.0+0.0im  …  0.0+0.0im  0.0+0.0im  0.125+0.0im\n",
       "   0.0+0.0im  0.0+0.0im  0.0+0.0im     0.0+0.0im  0.0+0.0im    0.0+0.0im\n",
       "   0.0+0.0im  0.0+0.0im  0.0+0.0im     0.0+0.0im  0.0+0.0im    0.0+0.0im\n",
       "   0.0+0.0im  0.0+0.0im  0.0+0.0im     0.0+0.0im  0.0+0.0im    0.0+0.0im\n",
       "   0.0+0.0im  0.0+0.0im  0.0+0.0im     0.0+0.0im  0.0+0.0im    0.0+0.0im\n",
       " 0.125+0.0im  0.0+0.0im  0.0+0.0im  …  0.0+0.0im  0.0+0.0im  0.125+0.0im\n",
       "   0.0+0.0im  0.0+0.0im  0.0+0.0im     0.0+0.0im  0.0+0.0im    0.0+0.0im\n",
       "   0.0+0.0im  0.0+0.0im  0.0+0.0im     0.0+0.0im  0.0+0.0im    0.0+0.0im\n",
       "   0.0+0.0im  0.0+0.0im  0.0+0.0im     0.0+0.0im  0.0+0.0im    0.0+0.0im\n",
       "   0.0+0.0im  0.0+0.0im  0.0+0.0im     0.0+0.0im  0.0+0.0im    0.0+0.0im\n",
       "   0.0+0.0im  0.0+0.0im  0.0+0.0im  …  0.0+0.0im  0.0+0.0im    0.0+0.0im\n",
       "   0.0+0.0im  0.0+0.0im  0.0+0.0im     0.0+0.0im  0.0+0.0im    0.0+0.0im\n",
       "   0.0+0.0im  0.0+0.0im  0.0+0.0im     0.0+0.0im  0.0+0.0im    0.0+0.0im\n",
       "      ⋮                             ⋱                        \n",
       "   0.0+0.0im  0.0+0.0im  0.0+0.0im     0.0+0.0im  0.0+0.0im    0.0+0.0im\n",
       "   0.0+0.0im  0.0+0.0im  0.0+0.0im     0.0+0.0im  0.0+0.0im    0.0+0.0im\n",
       "   0.0+0.0im  0.0+0.0im  0.0+0.0im     0.0+0.0im  0.0+0.0im    0.0+0.0im\n",
       "   0.0+0.0im  0.0+0.0im  0.0+0.0im  …  0.0+0.0im  0.0+0.0im    0.0+0.0im\n",
       "   0.0+0.0im  0.0+0.0im  0.0+0.0im     0.0+0.0im  0.0+0.0im    0.0+0.0im\n",
       "   0.0+0.0im  0.0+0.0im  0.0+0.0im     0.0+0.0im  0.0+0.0im    0.0+0.0im\n",
       " 0.125+0.0im  0.0+0.0im  0.0+0.0im     0.0+0.0im  0.0+0.0im  0.125+0.0im\n",
       "   0.0+0.0im  0.0+0.0im  0.0+0.0im     0.0+0.0im  0.0+0.0im    0.0+0.0im\n",
       "   0.0+0.0im  0.0+0.0im  0.0+0.0im  …  0.0+0.0im  0.0+0.0im    0.0+0.0im\n",
       "   0.0+0.0im  0.0+0.0im  0.0+0.0im     0.0+0.0im  0.0+0.0im    0.0+0.0im\n",
       "   0.0+0.0im  0.0+0.0im  0.0+0.0im     0.0+0.0im  0.0+0.0im    0.0+0.0im\n",
       " 0.125+0.0im  0.0+0.0im  0.0+0.0im     0.0+0.0im  0.0+0.0im  0.125+0.0im"
      ]
     },
     "execution_count": 17,
     "metadata": {},
     "output_type": "execute_result"
    }
   ],
   "source": [
    "g_den_matrix = QBase.States.DensityMatrix(g_den_matrix0)"
   ]
  },
  {
   "cell_type": "code",
   "execution_count": 18,
   "metadata": {},
   "outputs": [
    {
     "data": {
      "text/plain": [
       "-0.0"
      ]
     },
     "execution_count": 18,
     "metadata": {},
     "output_type": "execute_result"
    }
   ],
   "source": [
    "SqABC = QBase.Information.von_neumann_entropy(g_den_matrix)"
   ]
  },
  {
   "cell_type": "code",
   "execution_count": 19,
   "metadata": {},
   "outputs": [
    {
     "data": {
      "text/plain": [
       "1.0 + 0.0im"
      ]
     },
     "execution_count": 19,
     "metadata": {},
     "output_type": "execute_result"
    }
   ],
   "source": [
    "#Checking if it is a pure state:\n",
    "using LinearAlgebra\n",
    "tr(g_den_matrix*g_den_matrix)"
   ]
  },
  {
   "cell_type": "code",
   "execution_count": 20,
   "metadata": {},
   "outputs": [
    {
     "data": {
      "text/plain": [
       "64×64 Array{Int64,2}:\n",
       " 1  0  0  0  0  0  0  0  0  0  0  0  0  …  0  0  0  0  0  0  0  0  0  0  0  0\n",
       " 0  0  0  0  0  0  0  0  0  0  0  0  0     0  0  0  0  0  0  0  0  0  0  0  0\n",
       " 0  0  0  0  0  0  0  0  0  0  0  0  0     0  0  0  0  0  0  0  0  0  0  0  0\n",
       " 0  0  0  1  0  0  0  0  0  0  0  0  0     0  0  0  0  0  0  0  0  0  0  0  0\n",
       " 0  0  0  0  0  0  0  0  0  0  0  0  0     0  0  0  0  0  0  0  0  0  0  0  0\n",
       " 0  0  0  0  0  0  0  0  0  0  0  0  0  …  0  0  0  0  0  0  0  0  0  0  0  0\n",
       " 0  0  0  0  0  0  0  0  0  0  0  0  0     0  0  0  0  0  0  0  0  0  0  0  0\n",
       " 0  0  0  0  0  0  0  0  0  0  0  0  0     0  0  0  0  0  0  0  0  0  0  0  0\n",
       " 0  0  0  0  0  0  0  0  0  0  0  0  0     0  0  0  0  0  0  0  0  0  0  0  0\n",
       " 0  0  0  0  0  0  0  0  0  0  0  0  0     0  0  0  0  0  0  0  0  0  0  0  0\n",
       " 0  0  0  0  0  0  0  0  0  0  0  0  0  …  0  0  0  0  0  0  0  0  0  0  0  0\n",
       " 0  0  0  0  0  0  0  0  0  0  0  0  0     0  0  0  0  0  0  0  0  0  0  0  0\n",
       " 0  0  0  0  0  0  0  0  0  0  0  0  1     0  0  0  0  0  0  0  0  0  0  0  0\n",
       " ⋮              ⋮              ⋮        ⋱           ⋮              ⋮        \n",
       " 0  0  0  0  0  0  0  0  0  0  0  0  0     0  0  0  0  0  0  0  0  0  0  0  0\n",
       " 0  0  0  0  0  0  0  0  0  0  0  0  0     0  0  0  0  0  0  0  0  0  0  0  0\n",
       " 0  0  0  0  0  0  0  0  0  0  0  0  0     0  0  0  0  0  0  0  0  0  0  0  0\n",
       " 0  0  0  0  0  0  0  0  0  0  0  0  0  …  0  0  0  0  0  0  0  0  0  0  0  0\n",
       " 0  0  0  0  0  0  0  0  0  0  0  0  0     0  0  0  0  0  0  0  0  0  0  0  0\n",
       " 0  0  0  0  0  0  0  0  0  0  0  0  0     0  0  0  0  0  0  0  0  0  0  0  0\n",
       " 0  0  0  0  0  0  0  0  0  0  0  0  0     0  0  0  0  0  0  0  0  0  0  0  0\n",
       " 0  0  0  0  0  0  0  0  0  0  0  0  0     0  0  0  0  0  0  0  0  0  0  0  0\n",
       " 0  0  0  0  0  0  0  0  0  0  0  0  0  …  0  0  0  0  0  0  0  0  1  0  0  0\n",
       " 0  0  0  0  0  0  0  0  0  0  0  0  0     0  0  0  0  0  0  0  0  0  0  0  0\n",
       " 0  0  0  0  0  0  0  0  0  0  0  0  0     0  0  0  0  0  0  0  0  0  0  0  0\n",
       " 0  0  0  0  0  0  0  0  0  0  0  0  0     0  0  0  0  0  0  0  0  0  0  0  1"
      ]
     },
     "execution_count": 20,
     "metadata": {},
     "output_type": "execute_result"
    }
   ],
   "source": [
    "#Finding p(0,0,0)\n",
    "P000 = kron(kron(P0,P0),P0)#hhas expected dimensions"
   ]
  },
  {
   "cell_type": "code",
   "execution_count": 21,
   "metadata": {},
   "outputs": [
    {
     "data": {
      "text/plain": [
       "0.25 + 0.0im"
      ]
     },
     "execution_count": 21,
     "metadata": {},
     "output_type": "execute_result"
    }
   ],
   "source": [
    "p000 = tr(P000*g_den_matrix) #matches expectations!"
   ]
  },
  {
   "cell_type": "code",
   "execution_count": 22,
   "metadata": {},
   "outputs": [
    {
     "data": {
      "text/plain": [
       "0.0 + 0.0im"
      ]
     },
     "execution_count": 22,
     "metadata": {},
     "output_type": "execute_result"
    }
   ],
   "source": [
    "P111 = kron(kron(P1,P1),P1)\n",
    "p111 = tr(P111*g_den_matrix) #also matches expectations!"
   ]
  },
  {
   "cell_type": "code",
   "execution_count": 23,
   "metadata": {},
   "outputs": [],
   "source": [
    "#Ok, so it works. What now? We see if we get the same results with the classical density matrix.\n",
    "#Getting only diagonal terms:\n",
    "class_den_matrix0 = ones(64,64)\n",
    "n = 0\n",
    "for i = 1:64\n",
    "    for j = 1:64\n",
    "        if(i==j)\n",
    "            class_den_matrix0[i,j] = g_den_matrix[i,j];\n",
    "            if(g_den_matrix[i,j] != 0)\n",
    "                n = n+1; #n is the number of nonzero diagonal terms. we have 8.\n",
    "            end            \n",
    "        else\n",
    "            class_den_matrix0[i,j] = 0;\n",
    "        end\n",
    "    end\n",
    "end"
   ]
  },
  {
   "cell_type": "code",
   "execution_count": 24,
   "metadata": {},
   "outputs": [
    {
     "data": {
      "text/plain": [
       "64×64 QBase.States.DensityMatrix:\n",
       " 0.125+0.0im  0.0+0.0im  0.0+0.0im  …  0.0+0.0im  0.0+0.0im    0.0+0.0im\n",
       "   0.0+0.0im  0.0+0.0im  0.0+0.0im     0.0+0.0im  0.0+0.0im    0.0+0.0im\n",
       "   0.0+0.0im  0.0+0.0im  0.0+0.0im     0.0+0.0im  0.0+0.0im    0.0+0.0im\n",
       "   0.0+0.0im  0.0+0.0im  0.0+0.0im     0.0+0.0im  0.0+0.0im    0.0+0.0im\n",
       "   0.0+0.0im  0.0+0.0im  0.0+0.0im     0.0+0.0im  0.0+0.0im    0.0+0.0im\n",
       "   0.0+0.0im  0.0+0.0im  0.0+0.0im  …  0.0+0.0im  0.0+0.0im    0.0+0.0im\n",
       "   0.0+0.0im  0.0+0.0im  0.0+0.0im     0.0+0.0im  0.0+0.0im    0.0+0.0im\n",
       "   0.0+0.0im  0.0+0.0im  0.0+0.0im     0.0+0.0im  0.0+0.0im    0.0+0.0im\n",
       "   0.0+0.0im  0.0+0.0im  0.0+0.0im     0.0+0.0im  0.0+0.0im    0.0+0.0im\n",
       "   0.0+0.0im  0.0+0.0im  0.0+0.0im     0.0+0.0im  0.0+0.0im    0.0+0.0im\n",
       "   0.0+0.0im  0.0+0.0im  0.0+0.0im  …  0.0+0.0im  0.0+0.0im    0.0+0.0im\n",
       "   0.0+0.0im  0.0+0.0im  0.0+0.0im     0.0+0.0im  0.0+0.0im    0.0+0.0im\n",
       "   0.0+0.0im  0.0+0.0im  0.0+0.0im     0.0+0.0im  0.0+0.0im    0.0+0.0im\n",
       "      ⋮                             ⋱                        \n",
       "   0.0+0.0im  0.0+0.0im  0.0+0.0im     0.0+0.0im  0.0+0.0im    0.0+0.0im\n",
       "   0.0+0.0im  0.0+0.0im  0.0+0.0im     0.0+0.0im  0.0+0.0im    0.0+0.0im\n",
       "   0.0+0.0im  0.0+0.0im  0.0+0.0im     0.0+0.0im  0.0+0.0im    0.0+0.0im\n",
       "   0.0+0.0im  0.0+0.0im  0.0+0.0im  …  0.0+0.0im  0.0+0.0im    0.0+0.0im\n",
       "   0.0+0.0im  0.0+0.0im  0.0+0.0im     0.0+0.0im  0.0+0.0im    0.0+0.0im\n",
       "   0.0+0.0im  0.0+0.0im  0.0+0.0im     0.0+0.0im  0.0+0.0im    0.0+0.0im\n",
       "   0.0+0.0im  0.0+0.0im  0.0+0.0im     0.0+0.0im  0.0+0.0im    0.0+0.0im\n",
       "   0.0+0.0im  0.0+0.0im  0.0+0.0im     0.0+0.0im  0.0+0.0im    0.0+0.0im\n",
       "   0.0+0.0im  0.0+0.0im  0.0+0.0im  …  0.0+0.0im  0.0+0.0im    0.0+0.0im\n",
       "   0.0+0.0im  0.0+0.0im  0.0+0.0im     0.0+0.0im  0.0+0.0im    0.0+0.0im\n",
       "   0.0+0.0im  0.0+0.0im  0.0+0.0im     0.0+0.0im  0.0+0.0im    0.0+0.0im\n",
       "   0.0+0.0im  0.0+0.0im  0.0+0.0im     0.0+0.0im  0.0+0.0im  0.125+0.0im"
      ]
     },
     "execution_count": 24,
     "metadata": {},
     "output_type": "execute_result"
    }
   ],
   "source": [
    "class_den_matrix = QBase.States.DensityMatrix(class_den_matrix0)"
   ]
  },
  {
   "cell_type": "code",
   "execution_count": 25,
   "metadata": {},
   "outputs": [
    {
     "data": {
      "text/plain": [
       "0.25 + 0.0im"
      ]
     },
     "execution_count": 25,
     "metadata": {},
     "output_type": "execute_result"
    }
   ],
   "source": [
    "p000_class = tr(P000*class_den_matrix)"
   ]
  },
  {
   "cell_type": "code",
   "execution_count": 26,
   "metadata": {},
   "outputs": [
    {
     "data": {
      "text/plain": [
       "0.0 + 0.0im"
      ]
     },
     "execution_count": 26,
     "metadata": {},
     "output_type": "execute_result"
    }
   ],
   "source": [
    "p111_class = tr(P111*class_den_matrix)"
   ]
  },
  {
   "cell_type": "code",
   "execution_count": 27,
   "metadata": {},
   "outputs": [],
   "source": [
    "P110 = kron(kron(P1,P1),P0)\n",
    "P101 = kron(kron(P1,P0),P1)\n",
    "P011 = kron(kron(P0,P1),P1)\n",
    "P001 = kron(kron(P0,P0),P1);"
   ]
  },
  {
   "cell_type": "code",
   "execution_count": 28,
   "metadata": {},
   "outputs": [
    {
     "data": {
      "text/plain": [
       "0.25 + 0.0im"
      ]
     },
     "execution_count": 28,
     "metadata": {},
     "output_type": "execute_result"
    }
   ],
   "source": [
    "p110_class = tr(P110*class_den_matrix)"
   ]
  },
  {
   "cell_type": "code",
   "execution_count": 29,
   "metadata": {},
   "outputs": [
    {
     "data": {
      "text/plain": [
       "0.25 + 0.0im"
      ]
     },
     "execution_count": 29,
     "metadata": {},
     "output_type": "execute_result"
    }
   ],
   "source": [
    "p011_class = tr(P011*class_den_matrix)"
   ]
  },
  {
   "cell_type": "code",
   "execution_count": 30,
   "metadata": {},
   "outputs": [
    {
     "data": {
      "text/plain": [
       "0.25 + 0.0im"
      ]
     },
     "execution_count": 30,
     "metadata": {},
     "output_type": "execute_result"
    }
   ],
   "source": [
    "p101_class = tr(P101*class_den_matrix)"
   ]
  },
  {
   "cell_type": "code",
   "execution_count": 31,
   "metadata": {},
   "outputs": [
    {
     "data": {
      "text/plain": [
       "0.0 + 0.0im"
      ]
     },
     "execution_count": 31,
     "metadata": {},
     "output_type": "execute_result"
    }
   ],
   "source": [
    "p001_class = tr(P001*class_den_matrix)"
   ]
  },
  {
   "cell_type": "markdown",
   "metadata": {},
   "source": [
    "# Bell Measurements"
   ]
  },
  {
   "cell_type": "code",
   "execution_count": 32,
   "metadata": {},
   "outputs": [
    {
     "data": {
      "text/plain": [
       "4×4 Array{Float64,2}:\n",
       " 0.0   0.0   0.0  0.0\n",
       " 0.0   0.5  -0.5  0.0\n",
       " 0.0  -0.5   0.5  0.0\n",
       " 0.0   0.0   0.0  0.0"
      ]
     },
     "execution_count": 32,
     "metadata": {},
     "output_type": "execute_result"
    }
   ],
   "source": [
    "dens_beta0 = (1/2)*(k00*k00' + k00*k11' + k11*k00' + k11*k11')\n",
    "dens_beta1 = (1/2)*((k01 + k10)*(k01 + k10)')\n",
    "dens_beta2 = (1/2)*((k00 - k11)*(k00 - k11)')\n",
    "dens_beta3 = (1/2)*((k01 - k10)*(k01 - k10)')"
   ]
  },
  {
   "cell_type": "code",
   "execution_count": 33,
   "metadata": {},
   "outputs": [
    {
     "data": {
      "text/plain": [
       "64×64 Array{Float64,2}:\n",
       " 0.0  0.0    0.0    0.0  0.0  0.0  0.0  …  0.0  0.0  0.0  0.0    0.0    0.0\n",
       " 0.0  0.125  0.125  0.0  0.0  0.0  0.0     0.0  0.0  0.0  0.125  0.125  0.0\n",
       " 0.0  0.125  0.125  0.0  0.0  0.0  0.0     0.0  0.0  0.0  0.125  0.125  0.0\n",
       " 0.0  0.0    0.0    0.0  0.0  0.0  0.0     0.0  0.0  0.0  0.0    0.0    0.0\n",
       " 0.0  0.0    0.0    0.0  0.0  0.0  0.0     0.0  0.0  0.0  0.0    0.0    0.0\n",
       " 0.0  0.0    0.0    0.0  0.0  0.0  0.0  …  0.0  0.0  0.0  0.0    0.0    0.0\n",
       " 0.0  0.0    0.0    0.0  0.0  0.0  0.0     0.0  0.0  0.0  0.0    0.0    0.0\n",
       " 0.0  0.0    0.0    0.0  0.0  0.0  0.0     0.0  0.0  0.0  0.0    0.0    0.0\n",
       " 0.0  0.0    0.0    0.0  0.0  0.0  0.0     0.0  0.0  0.0  0.0    0.0    0.0\n",
       " 0.0  0.0    0.0    0.0  0.0  0.0  0.0     0.0  0.0  0.0  0.0    0.0    0.0\n",
       " 0.0  0.0    0.0    0.0  0.0  0.0  0.0  …  0.0  0.0  0.0  0.0    0.0    0.0\n",
       " 0.0  0.0    0.0    0.0  0.0  0.0  0.0     0.0  0.0  0.0  0.0    0.0    0.0\n",
       " 0.0  0.0    0.0    0.0  0.0  0.0  0.0     0.0  0.0  0.0  0.0    0.0    0.0\n",
       " ⋮                            ⋮         ⋱            ⋮                  \n",
       " 0.0  0.0    0.0    0.0  0.0  0.0  0.0     0.0  0.0  0.0  0.0    0.0    0.0\n",
       " 0.0  0.0    0.0    0.0  0.0  0.0  0.0     0.0  0.0  0.0  0.0    0.0    0.0\n",
       " 0.0  0.0    0.0    0.0  0.0  0.0  0.0     0.0  0.0  0.0  0.0    0.0    0.0\n",
       " 0.0  0.0    0.0    0.0  0.0  0.0  0.0  …  0.0  0.0  0.0  0.0    0.0    0.0\n",
       " 0.0  0.0    0.0    0.0  0.0  0.0  0.0     0.0  0.0  0.0  0.0    0.0    0.0\n",
       " 0.0  0.0    0.0    0.0  0.0  0.0  0.0     0.0  0.0  0.0  0.0    0.0    0.0\n",
       " 0.0  0.0    0.0    0.0  0.0  0.0  0.0     0.0  0.0  0.0  0.0    0.0    0.0\n",
       " 0.0  0.0    0.0    0.0  0.0  0.0  0.0     0.0  0.0  0.0  0.0    0.0    0.0\n",
       " 0.0  0.0    0.0    0.0  0.0  0.0  0.0  …  0.0  0.0  0.0  0.0    0.0    0.0\n",
       " 0.0  0.125  0.125  0.0  0.0  0.0  0.0     0.0  0.0  0.0  0.125  0.125  0.0\n",
       " 0.0  0.125  0.125  0.0  0.0  0.0  0.0     0.0  0.0  0.0  0.125  0.125  0.0\n",
       " 0.0  0.0    0.0    0.0  0.0  0.0  0.0     0.0  0.0  0.0  0.0    0.0    0.0"
      ]
     },
     "execution_count": 33,
     "metadata": {},
     "output_type": "execute_result"
    }
   ],
   "source": [
    "Bell000 = kron(kron(dens_beta0,dens_beta0),dens_beta0)\n",
    "Bell001 = kron(kron(dens_beta0,dens_beta0),dens_beta1)"
   ]
  },
  {
   "cell_type": "code",
   "execution_count": 34,
   "metadata": {},
   "outputs": [
    {
     "data": {
      "text/plain": [
       "0.0625 + 0.0im"
      ]
     },
     "execution_count": 34,
     "metadata": {},
     "output_type": "execute_result"
    }
   ],
   "source": [
    "p_Bell000 = tr(Bell000*g_den_matrix) #1/16"
   ]
  },
  {
   "cell_type": "code",
   "execution_count": 35,
   "metadata": {},
   "outputs": [
    {
     "data": {
      "text/plain": [
       "0.0 + 0.0im"
      ]
     },
     "execution_count": 35,
     "metadata": {},
     "output_type": "execute_result"
    }
   ],
   "source": [
    "p_Bell001 = tr(Bell001*g_den_matrix)"
   ]
  },
  {
   "cell_type": "code",
   "execution_count": 36,
   "metadata": {},
   "outputs": [
    {
     "data": {
      "text/plain": [
       "4-element Array{Array{Float64,2},1}:\n",
       " [0.5 0.0 0.0 0.5; 0.0 0.0 0.0 0.0; 0.0 0.0 0.0 0.0; 0.5 0.0 0.0 0.5]\n",
       " [0.0 0.0 0.0 0.0; 0.0 0.5 0.5 0.0; 0.0 0.5 0.5 0.0; 0.0 0.0 0.0 0.0]\n",
       " [0.5 0.0 0.0 -0.5; 0.0 0.0 0.0 0.0; 0.0 0.0 0.0 0.0; -0.5 0.0 0.0 0.5]\n",
       " [0.0 0.0 0.0 0.0; 0.0 0.5 -0.5 0.0; 0.0 -0.5 0.5 0.0; 0.0 0.0 0.0 0.0]"
      ]
     },
     "execution_count": 36,
     "metadata": {},
     "output_type": "execute_result"
    }
   ],
   "source": [
    "outcomes = [dens_beta0,dens_beta1,dens_beta2,dens_beta3]"
   ]
  },
  {
   "cell_type": "code",
   "execution_count": 37,
   "metadata": {},
   "outputs": [
    {
     "data": {
      "text/plain": [
       "measurement (generic function with 1 method)"
      ]
     },
     "execution_count": 37,
     "metadata": {},
     "output_type": "execute_result"
    }
   ],
   "source": [
    "#Measurement matrix\n",
    "function measurement(a,b,c)\n",
    "    kron(kron(a,b),c)\n",
    "end"
   ]
  },
  {
   "cell_type": "code",
   "execution_count": 38,
   "metadata": {},
   "outputs": [
    {
     "data": {
      "text/plain": [
       "0.0625 + 0.0im"
      ]
     },
     "execution_count": 38,
     "metadata": {},
     "output_type": "execute_result"
    }
   ],
   "source": [
    "#Testing if it works as I think it should.\n",
    "testmeasurement = measurement(outcomes[1],outcomes[1],outcomes[1])\n",
    "testp000B = tr(testmeasurement*g_den_matrix)\n",
    "#It does."
   ]
  },
  {
   "cell_type": "code",
   "execution_count": 39,
   "metadata": {},
   "outputs": [
    {
     "data": {
      "text/plain": [
       "0.0625 + 0.0im"
      ]
     },
     "execution_count": 39,
     "metadata": {},
     "output_type": "execute_result"
    }
   ],
   "source": [
    "#Calculates probabilities, given outcomes a,b,c and a density matrix\n",
    "function prob(a,b,c,dens_matrix)\n",
    "    tr(measurement(a,b,c)*dens_matrix)\n",
    "end\n",
    "prob(outcomes[1],outcomes[1],outcomes[1],g_den_matrix)#works just fine"
   ]
  },
  {
   "cell_type": "code",
   "execution_count": 40,
   "metadata": {},
   "outputs": [
    {
     "name": "stdout",
     "output_type": "stream",
     "text": [
      "p(1,1,1) = 0.0625\n",
      "p(1,1,2) = 0.0\n",
      "p(1,1,3) = 0.0\n",
      "p(1,1,4) = 0.0\n",
      "p(1,2,1) = 0.0\n",
      "p(1,2,2) = 0.0625\n",
      "p(1,2,3) = 0.0\n",
      "p(1,2,4) = 0.0\n",
      "p(1,3,1) = 0.0\n",
      "p(1,3,2) = 0.0\n",
      "p(1,3,3) = 0.0625\n",
      "p(1,3,4) = 0.0\n",
      "p(1,4,1) = 0.0\n",
      "p(1,4,2) = 0.0\n",
      "p(1,4,3) = 0.0\n",
      "p(1,4,4) = 0.0625\n",
      "p(2,1,1) = 0.0\n",
      "p(2,1,2) = 0.0625\n",
      "p(2,1,3) = 0.0\n",
      "p(2,1,4) = 0.0\n",
      "p(2,2,1) = 0.0625\n",
      "p(2,2,2) = 0.0\n",
      "p(2,2,3) = 0.0\n",
      "p(2,2,4) = 0.0\n",
      "p(2,3,1) = 0.0\n",
      "p(2,3,2) = 0.0\n",
      "p(2,3,3) = 0.0\n",
      "p(2,3,4) = 0.0625\n",
      "p(2,4,1) = 0.0\n",
      "p(2,4,2) = 0.0\n",
      "p(2,4,3) = 0.0625\n",
      "p(2,4,4) = 0.0\n",
      "p(3,1,1) = 0.0\n",
      "p(3,1,2) = 0.0\n",
      "p(3,1,3) = 0.0625\n",
      "p(3,1,4) = 0.0\n",
      "p(3,2,1) = 0.0\n",
      "p(3,2,2) = 0.0\n",
      "p(3,2,3) = 0.0\n",
      "p(3,2,4) = 0.0625\n",
      "p(3,3,1) = 0.0625\n",
      "p(3,3,2) = 0.0\n",
      "p(3,3,3) = 0.0\n",
      "p(3,3,4) = 0.0\n",
      "p(3,4,1) = 0.0\n",
      "p(3,4,2) = 0.0625\n",
      "p(3,4,3) = 0.0\n",
      "p(3,4,4) = 0.0\n",
      "p(4,1,1) = 0.0\n",
      "p(4,1,2) = 0.0\n",
      "p(4,1,3) = 0.0\n",
      "p(4,1,4) = 0.0625\n",
      "p(4,2,1) = 0.0\n",
      "p(4,2,2) = 0.0\n",
      "p(4,2,3) = 0.0625\n",
      "p(4,2,4) = 0.0\n",
      "p(4,3,1) = 0.0\n",
      "p(4,3,2) = 0.0625\n",
      "p(4,3,3) = 0.0\n",
      "p(4,3,4) = 0.0\n",
      "p(4,4,1) = 0.0625\n",
      "p(4,4,2) = 0.0\n",
      "p(4,4,3) = 0.0\n",
      "p(4,4,4) = 0.0\n"
     ]
    }
   ],
   "source": [
    "#Calculating all probs!!!\n",
    "bell_probs = ones(4,4,4)\n",
    "for i = 1:4\n",
    "    for j = 1:4\n",
    "        for k = 1:4\n",
    "            bell_probs[i,j,k] = prob(outcomes[i],outcomes[j],outcomes[k],g_den_matrix);\n",
    "            print(\"p(\",i,\",\",j,\",\",k,\") = \",bell_probs[i,j,k],\"\\n\")\n",
    "        end\n",
    "    end\n",
    "end\n",
    "\n",
    "           "
   ]
  },
  {
   "cell_type": "code",
   "execution_count": 41,
   "metadata": {},
   "outputs": [
    {
     "name": "stdout",
     "output_type": "stream",
     "text": [
      "p(1,1,1) = 0.03125\n",
      "p(1,1,2) = 0.0\n",
      "p(1,1,3) = 0.03125\n",
      "p(1,1,4) = 0.0\n",
      "p(1,2,1) = 0.0\n",
      "p(1,2,2) = 0.03125\n",
      "p(1,2,3) = 0.0\n",
      "p(1,2,4) = 0.03125\n",
      "p(1,3,1) = 0.03125\n",
      "p(1,3,2) = 0.0\n",
      "p(1,3,3) = 0.03125\n",
      "p(1,3,4) = 0.0\n",
      "p(1,4,1) = 0.0\n",
      "p(1,4,2) = 0.03125\n",
      "p(1,4,3) = 0.0\n",
      "p(1,4,4) = 0.03125\n",
      "p(2,1,1) = 0.0\n",
      "p(2,1,2) = 0.03125\n",
      "p(2,1,3) = 0.0\n",
      "p(2,1,4) = 0.03125\n",
      "p(2,2,1) = 0.03125\n",
      "p(2,2,2) = 0.0\n",
      "p(2,2,3) = 0.03125\n",
      "p(2,2,4) = 0.0\n",
      "p(2,3,1) = 0.0\n",
      "p(2,3,2) = 0.03125\n",
      "p(2,3,3) = 0.0\n",
      "p(2,3,4) = 0.03125\n",
      "p(2,4,1) = 0.03125\n",
      "p(2,4,2) = 0.0\n",
      "p(2,4,3) = 0.03125\n",
      "p(2,4,4) = 0.0\n",
      "p(3,1,1) = 0.03125\n",
      "p(3,1,2) = 0.0\n",
      "p(3,1,3) = 0.03125\n",
      "p(3,1,4) = 0.0\n",
      "p(3,2,1) = 0.0\n",
      "p(3,2,2) = 0.03125\n",
      "p(3,2,3) = 0.0\n",
      "p(3,2,4) = 0.03125\n",
      "p(3,3,1) = 0.03125\n",
      "p(3,3,2) = 0.0\n",
      "p(3,3,3) = 0.03125\n",
      "p(3,3,4) = 0.0\n",
      "p(3,4,1) = 0.0\n",
      "p(3,4,2) = 0.03125\n",
      "p(3,4,3) = 0.0\n",
      "p(3,4,4) = 0.03125\n",
      "p(4,1,1) = 0.0\n",
      "p(4,1,2) = 0.03125\n",
      "p(4,1,3) = 0.0\n",
      "p(4,1,4) = 0.03125\n",
      "p(4,2,1) = 0.03125\n",
      "p(4,2,2) = 0.0\n",
      "p(4,2,3) = 0.03125\n",
      "p(4,2,4) = 0.0\n",
      "p(4,3,1) = 0.0\n",
      "p(4,3,2) = 0.03125\n",
      "p(4,3,3) = 0.0\n",
      "p(4,3,4) = 0.03125\n",
      "p(4,4,1) = 0.03125\n",
      "p(4,4,2) = 0.0\n",
      "p(4,4,3) = 0.03125\n",
      "p(4,4,4) = 0.0\n"
     ]
    }
   ],
   "source": [
    "#Calculating all probabilities for classical state\n",
    "bell_probs_class = ones(4,4,4)\n",
    "for i = 1:4\n",
    "    for j = 1:4\n",
    "        for k = 1:4\n",
    "            bell_probs_class[i,j,k] = prob(outcomes[i],outcomes[j],outcomes[k],class_den_matrix);\n",
    "            print(\"p(\",i,\",\",j,\",\",k,\") = \",bell_probs_class[i,j,k],\"\\n\")\n",
    "        end\n",
    "    end\n",
    "end\n"
   ]
  },
  {
   "cell_type": "code",
   "execution_count": null,
   "metadata": {},
   "outputs": [],
   "source": []
  }
 ],
 "metadata": {
  "kernelspec": {
   "display_name": "Julia 1.4.2",
   "language": "julia",
   "name": "julia-1.4"
  },
  "language_info": {
   "file_extension": ".jl",
   "mimetype": "application/julia",
   "name": "julia",
   "version": "1.4.2"
  }
 },
 "nbformat": 4,
 "nbformat_minor": 4
}
